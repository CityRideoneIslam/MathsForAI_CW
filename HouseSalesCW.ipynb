{
 "cells": [
  {
   "cell_type": "markdown",
   "metadata": {},
   "source": [
    "# Dataset Overview:\n",
    "\n",
    "Name: House Sales Prediction in King County, USA (from Kaggle)\n",
    "\n",
    "Description: This dataset contains details about house sales in King County, which includes columns such as:\n",
    "- id: A unique identifier for each sale\n",
    "- date: The date of the sale\n",
    "- price: The sale price of the house (target variable)\n",
    "- bedrooms: Number of bedrooms\n",
    "- bathrooms: Number of bathrooms\n",
    "- sqft_living: Square footage of the living space\n",
    "- sqft_lot: Square footage of the lot\n",
    "- floors: Number of floors\n",
    "- waterfront: Whether the house is waterfront or not\n",
    "- view: Quality of the view (scale 0-4)\n",
    "- condition: Condition of the house (scale 1-5)\n",
    "- grade: Overall grade of the house (scale 1-13)\n",
    "- sqft_above: Square footage of the house excluding the basement\n",
    "- sqft_basement: Square footage of the basement\n",
    "- yr_built: Year the house was built\n",
    "- yr_renovated: Year the house was renovated (if applicable)\n",
    "- zipcode: Zip code where the house is located\n",
    "- lat: Latitude of the house\n",
    "- long: Longitude of the house\n",
    "- sqft_living15: Living room area in the nearest 15 neighbors\n",
    "- sqft_lot15: Lot size of the nearest 15 neighbors"
   ]
  },
  {
   "cell_type": "markdown",
   "metadata": {},
   "source": [
    "ReLU(x)=max(0,x)\n",
    "\n",
    "PROS: Solves the vanishing gradient problem, allowing networks to train deeper architectures.\n",
    "\n",
    "CONS: Can cause \"dead neurons\" where ReLU units stop learning if they get stuck at zero.\n",
    "\n",
    "For this dataset, ReLU would be more useful in hidden layers since it’s less likely to suffer from vanishing gradients in a deep neural network."
   ]
  }
 ],
 "metadata": {
  "kernelspec": {
   "display_name": "",
   "name": ""
  },
  "language_info": {
   "name": ""
  }
 },
 "nbformat": 4,
 "nbformat_minor": 5
}
