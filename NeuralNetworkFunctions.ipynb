{
 "cells": [
  {
   "cell_type": "code",
   "execution_count": 61,
   "id": "d320c960-a9c3-45ff-a465-5db2181c6aac",
   "metadata": {},
   "outputs": [],
   "source": [
    "import numpy as np"
   ]
  },
  {
   "cell_type": "markdown",
   "id": "01db8a87-debd-4626-9129-dde764dea3b2",
   "metadata": {},
   "source": [
    "# Sigmoid function"
   ]
  },
  {
   "cell_type": "code",
   "execution_count": 74,
   "id": "960b0abe-f743-437d-b006-c9e4ae625d20",
   "metadata": {},
   "outputs": [],
   "source": [
    "def sigmoid_forward(x):\n",
    "    return 1 / (1 + np.exp(-x))"
   ]
  },
  {
   "cell_type": "code",
   "execution_count": 76,
   "id": "819e93d4-b645-4d58-a34d-21e34a1aca44",
   "metadata": {},
   "outputs": [],
   "source": [
    "def sigmoid_backward(x):\n",
    "    return sigmoid_forward(x) * (1 - sigmoid_forward(x))"
   ]
  },
  {
   "cell_type": "markdown",
   "id": "a6f2f8be-3737-42a7-84d9-40029ce93927",
   "metadata": {},
   "source": [
    "# ReLU function"
   ]
  },
  {
   "cell_type": "code",
   "execution_count": 78,
   "id": "cba63e52-7deb-4056-b224-2cb5776ee796",
   "metadata": {},
   "outputs": [],
   "source": [
    "def relu_forward(x):\n",
    "    return np.maximum(0, x)"
   ]
  },
  {
   "cell_type": "code",
   "execution_count": 84,
   "id": "69be99f4-9b52-45be-b8b2-c134cde23ded",
   "metadata": {},
   "outputs": [],
   "source": [
    "def relu_backward(x):\n",
    "    return 1 if x > 0 else 0"
   ]
  },
  {
   "cell_type": "markdown",
   "id": "056d6d99-02bd-4e02-92a5-7f686e86662d",
   "metadata": {},
   "source": [
    "# Softmax function"
   ]
  },
  {
   "cell_type": "code",
   "execution_count": 82,
   "id": "8a40bd61-edcb-44ee-8310-279531a085b8",
   "metadata": {},
   "outputs": [],
   "source": [
    "def softmax_forward(vector):\n",
    "    e = np.exp(vector)\n",
    "    return e / np.sum(e)"
   ]
  },
  {
   "cell_type": "code",
   "execution_count": 80,
   "id": "b93ea4db-4599-47fa-80cf-25e6d998d26e",
   "metadata": {},
   "outputs": [],
   "source": [
    "def softmax_backward(vector, y):\n",
    "    p = softmax_forward(vector)\n",
    "    return p - y"
   ]
  },
  {
   "cell_type": "markdown",
   "id": "964d6a00-2f36-4093-9992-63077fa6aa5c",
   "metadata": {},
   "source": [
    "# Implemented Neural network"
   ]
  },
  {
   "cell_type": "code",
   "execution_count": 33,
   "id": "61c80cf5-b987-4353-a26f-7df0d6a2bc37",
   "metadata": {},
   "outputs": [],
   "source": []
  },
  {
   "cell_type": "code",
   "execution_count": 21,
   "id": "c64ce2d7-9ec5-428e-849d-4cb282528539",
   "metadata": {},
   "outputs": [],
   "source": []
  },
  {
   "cell_type": "code",
   "execution_count": 59,
   "id": "07c039d8-361c-4de1-b7c3-c7f478f42f48",
   "metadata": {},
   "outputs": [],
   "source": [
    "class NeuralNetwork:\n",
    "    def __init__(self):\n",
    "        pass\n",
    "\n",
    "    def sigmoid_forward(self, x):\n",
    "        return 1 / (1 + np.exp(-x))\n",
    "\n",
    "    def sigmoid_backward(self, x):\n",
    "        return sigmoid_forward(x) * (1 - sigmoid_forward(x))\n",
    "\n",
    "    def relu_forward(self, x):\n",
    "        return np.maximum(0, x)\n",
    "\n",
    "    def relu_backward(self, x):\n",
    "        return 1 if x > 0 else 0\n",
    "\n",
    "    def softmax_forward(self, vector):\n",
    "        e = np.exp(vector)\n",
    "        return e / np.sum(e)\n",
    "\n",
    "    def softmax_backward(self, vector, y):\n",
    "        p = softmax_forward(vector)\n",
    "        return p - y"
   ]
  }
 ],
 "metadata": {
  "kernelspec": {
   "display_name": "Python 3 (ipykernel)",
   "language": "python",
   "name": "python3"
  },
  "language_info": {
   "codemirror_mode": {
    "name": "ipython",
    "version": 3
   },
   "file_extension": ".py",
   "mimetype": "text/x-python",
   "name": "python",
   "nbconvert_exporter": "python",
   "pygments_lexer": "ipython3",
   "version": "3.12.4"
  }
 },
 "nbformat": 4,
 "nbformat_minor": 5
}
